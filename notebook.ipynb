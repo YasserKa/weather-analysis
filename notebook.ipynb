{
 "cells": [
  {
   "cell_type": "code",
   "execution_count": 1,
   "id": "harmful-vertical",
   "metadata": {},
   "outputs": [
    {
     "data": {
      "text/html": [
       "\n",
       "        <div>\n",
       "            <p><b>SparkContext</b></p>\n",
       "\n",
       "            <p><a href=\"http://client:4040\">Spark UI</a></p>\n",
       "\n",
       "            <dl>\n",
       "              <dt>Version</dt>\n",
       "                <dd><code>v3.1.1</code></dd>\n",
       "              <dt>Master</dt>\n",
       "                <dd><code>spark://192.168.2.173:7077</code></dd>\n",
       "              <dt>AppName</dt>\n",
       "                <dd><code>tryA</code></dd>\n",
       "            </dl>\n",
       "        </div>\n",
       "        "
      ],
      "text/plain": [
       "<SparkContext master=spark://192.168.2.173:7077 appName=tryA>"
      ]
     },
     "execution_count": 1,
     "metadata": {},
     "output_type": "execute_result"
    }
   ],
   "source": [
    "from pyspark import SparkContext, SparkConf\n",
    "from operator import add\n",
    "\n",
    "conf = SparkConf()\n",
    "\n",
    "conf.setMaster(\"spark://192.168.2.173:7077\") \\\n",
    "        .setAppName(\"tryA\")\\\n",
    "        .set(\"spark.dynamicAllocation.enabled\", True)\\\n",
    "        .set(\"spark.shuffle.service.enabled\", True)\\\n",
    "        .set(\"spark.dynamicAllocation.executorIdleTimeout\",\"30s\")\\\n",
    "        .set(\"spark.executor.cores\",2)\\\n",
    "        .set(\"spark.driver.port\",9998)\\\n",
    "        .set(\"spark.blockManager.port\",10005)\n",
    "\n",
    "\n",
    "context = SparkContext(conf=conf)\n",
    "context.getOrCreate()"
   ]
  },
  {
   "cell_type": "code",
   "execution_count": 2,
   "id": "further-equipment",
   "metadata": {},
   "outputs": [],
   "source": [
    "pointer_file = context.textFile(\"hdfs://192.168.2.173:9000/user/ubuntu/TN_STAID000001.txt\")"
   ]
  },
  {
   "cell_type": "code",
   "execution_count": 4,
   "id": "numerous-injury",
   "metadata": {},
   "outputs": [
    {
     "data": {
      "text/plain": [
       "['EUROPEAN CLIMATE ASSESSMENT & DATASET (ECA&D), file created on: 20-02-2021',\n",
       " 'THESE DATA CAN BE USED FOR NON-COMMERCIAL RESEARCH AND EDUCATION PROVIDED THAT THE FOLLOWING SOURCE IS ACKNOWLEDGED: ',\n",
       " '',\n",
       " 'Klein Tank, A.M.G. and Coauthors, 2002. Daily dataset of 20th-century surface',\n",
       " 'air temperature and precipitation series for the European Climate Assessment.',\n",
       " 'Int. J. of Climatol., 22, 1441-1453.',\n",
       " 'Data and metadata available at http://www.ecad.eu',\n",
       " '',\n",
       " 'FILE FORMAT (MISSING VALUE CODE = -9999):',\n",
       " '',\n",
       " '01-06 STAID: Station identifier',\n",
       " '08-13 SOUID: Source identifier',\n",
       " '15-22 DATE : Date YYYYMMDD',\n",
       " '24-28 TN   : Minimum temperature in 0.1 &#176;C',\n",
       " \"30-34 Q_TN : quality code for TN (0='valid'; 1='suspect'; 9='missing')\",\n",
       " '',\n",
       " 'This is the blended series of station VAEXJOE, SWEDEN (STAID: 1)',\n",
       " 'Blended and updated with sources:1 35383 ',\n",
       " 'See files sources.txt and stations.txt for more info.',\n",
       " '']"
      ]
     },
     "execution_count": 4,
     "metadata": {},
     "output_type": "execute_result"
    }
   ],
   "source": [
    "pointer_file.take(20)"
   ]
  },
  {
   "cell_type": "code",
   "execution_count": 5,
   "id": "abandoned-generic",
   "metadata": {},
   "outputs": [
    {
     "name": "stdout",
     "output_type": "stream",
     "text": [
      "220\n"
     ]
    }
   ],
   "source": [
    "def add(a, b):\n",
    "    # commutative and associative!\n",
    "    return a + b\n",
    "\n",
    "rdd = context.parallelize([1, 2, 3, 4, 5, 6, 7, 8, 9, 10], 3)\n",
    "\n",
    "result = rdd\\\n",
    "            .filter(lambda x: x % 2 == 0)\\\n",
    "            .map(lambda x: x ** 2)\\\n",
    "            .reduce(add)\n",
    "\n",
    "print(result)"
   ]
  },
  {
   "cell_type": "code",
   "execution_count": 2,
   "id": "functioning-receiver",
   "metadata": {},
   "outputs": [],
   "source": [
    "context.stop()"
   ]
  },
  {
   "cell_type": "code",
   "execution_count": null,
   "id": "realistic-marriage",
   "metadata": {},
   "outputs": [],
   "source": []
  }
 ],
 "metadata": {
  "kernelspec": {
   "display_name": "Python 3",
   "language": "python",
   "name": "python3"
  },
  "language_info": {
   "codemirror_mode": {
    "name": "ipython",
    "version": 3
   },
   "file_extension": ".py",
   "mimetype": "text/x-python",
   "name": "python",
   "nbconvert_exporter": "python",
   "pygments_lexer": "ipython3",
   "version": "3.8.2"
  }
 },
 "nbformat": 4,
 "nbformat_minor": 5
}
